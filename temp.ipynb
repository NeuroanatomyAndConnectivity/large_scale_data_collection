{
 "cells": [
  {
   "cell_type": "code",
   "execution_count": 25,
   "metadata": {
    "collapsed": true
   },
   "outputs": [],
   "source": [
    "import pandas as pd\n",
    "import glob\n",
    "import os.path"
   ]
  },
  {
   "cell_type": "markdown",
   "metadata": {},
   "source": [
    "### Rewrite original functions to contain new column names"
   ]
  },
  {
   "cell_type": "code",
   "execution_count": 91,
   "metadata": {
    "collapsed": true
   },
   "outputs": [],
   "source": [
    "fileToSearch = '/home/raid3/oligschlager/workspace/large_scale_data_collection/descrStats_surveys.py'\n",
    "fileReplaced = '/home/raid3/oligschlager/workspace/large_scale_data_collection/NEW_renamed_descrStats_surveys.py'\n"
   ]
  },
  {
   "cell_type": "code",
   "execution_count": 92,
   "metadata": {
    "collapsed": false
   },
   "outputs": [],
   "source": [
    "\n",
    "f1 = open(fileToSearch, 'r')\n",
    "f2 = open(fileReplaced, 'w')\n",
    "\n",
    "for line in f1:\n",
    "    \n",
    "    for fileKey in glob.glob('/nobackup/liberia1/data/lsd/behavioral/XNAT/keys/quest_BDI_22.csv'):\n",
    "        df_key = pd.read_csv(fileKey)\n",
    "        #print os.path.basename(fileKey)\n",
    "    \n",
    "        for idx in df_key.index:\n",
    "            line = line.replace(df_key.old.iloc[idx], df_key.new.iloc[idx])\n",
    "    f2.write(line)\n",
    "f1.close()\n",
    "f2.close()"
   ]
  },
  {
   "cell_type": "markdown",
   "metadata": {
    "collapsed": false
   },
   "source": [
    "### Copy into single folder for Natacha to check them"
   ]
  },
  {
   "cell_type": "code",
   "execution_count": 5,
   "metadata": {
    "collapsed": true
   },
   "outputs": [],
   "source": [
    "target_dir = '/nobackup/hunte1/sabine/temp/infofiles'"
   ]
  },
  {
   "cell_type": "code",
   "execution_count": 12,
   "metadata": {
    "collapsed": false
   },
   "outputs": [
    {
     "name": "stdout",
     "output_type": "stream",
     "text": [
      "Short-NYC-Q_postETS.txt\n"
     ]
    }
   ],
   "source": [
    "for root, dirs, files in os.walk(\"/nobackup/adenauer2/LSD/Restricted/Questionnaires\"):\n",
    "    for file in files:\n",
    "        if file.endswith(\".txt\"):\n",
    "            try:\n",
    "                source_f = os.path.join(root, file)\n",
    "                target_f = os.path.join(target_dir, file)\n",
    "                shutil.copyfile(source_f, target_f)\n",
    "            except:\n",
    "                print file\n",
    "            "
   ]
  },
  {
   "cell_type": "markdown",
   "metadata": {},
   "source": [
    "### Check subject list and anonymization"
   ]
  },
  {
   "cell_type": "code",
   "execution_count": 52,
   "metadata": {
    "collapsed": true
   },
   "outputs": [],
   "source": [
    "import pandas as pd\n",
    "import numpy as np"
   ]
  },
  {
   "cell_type": "code",
   "execution_count": 19,
   "metadata": {
    "collapsed": true
   },
   "outputs": [],
   "source": [
    "subjects = pd.read_csv('/nobackup/adenauer2/marcel/LSD/LEMON_LSD/subjects', \n",
    "                       header=None, dtype=str)"
   ]
  },
  {
   "cell_type": "code",
   "execution_count": 24,
   "metadata": {
    "collapsed": false
   },
   "outputs": [
    {
     "data": {
      "text/plain": [
       "(321, 1)"
      ]
     },
     "execution_count": 24,
     "metadata": {},
     "output_type": "execute_result"
    }
   ],
   "source": [
    "subjects.shape"
   ]
  },
  {
   "cell_type": "code",
   "execution_count": 29,
   "metadata": {
    "collapsed": false
   },
   "outputs": [
    {
     "data": {
      "text/plain": [
       "array([u'ids_probanden_db', u'ids_xnat_publicp'], dtype=object)"
      ]
     },
     "execution_count": 29,
     "metadata": {},
     "output_type": "execute_result"
    }
   ],
   "source": [
    "lookup.columns.values"
   ]
  },
  {
   "cell_type": "code",
   "execution_count": 35,
   "metadata": {
    "collapsed": false
   },
   "outputs": [],
   "source": [
    "lookup = pd.read_excel('/nobackup/adenauer2/LSD/Originals/lookup_table.xlsx',\n",
    "                      converters={'ids_probanden_db' : str, 'ids_xnat_publicp' : str})"
   ]
  },
  {
   "cell_type": "code",
   "execution_count": 38,
   "metadata": {
    "collapsed": false
   },
   "outputs": [
    {
     "data": {
      "text/plain": [
       "'010021'"
      ]
     },
     "execution_count": 38,
     "metadata": {},
     "output_type": "execute_result"
    }
   ],
   "source": [
    "lookup['ids_xnat_publicp'].iloc[20]"
   ]
  },
  {
   "cell_type": "code",
   "execution_count": 46,
   "metadata": {
    "collapsed": false
   },
   "outputs": [
    {
     "data": {
      "text/plain": [
       "False"
      ]
     },
     "execution_count": 46,
     "metadata": {},
     "output_type": "execute_result"
    }
   ],
   "source": [
    "'00796' in subjects"
   ]
  },
  {
   "cell_type": "code",
   "execution_count": 54,
   "metadata": {
    "collapsed": false
   },
   "outputs": [
    {
     "data": {
      "text/plain": [
       "array(['25260', '26782', '25263', '25264', '27951', '25171', '27880',\n",
       "       '27683', '27361', '27360', '23602', '26839', '27774', '27835',\n",
       "       '27372', '28022', '23689', '23963', '25189', '26489', '27174',\n",
       "       '24915', '27937', '24275', '26723', '23576', '26687', '28133',\n",
       "       '25194', '25195', '25192', '28035', '24102', '26856', '26857',\n",
       "       '25326', '23947', '23946', '26626', '27428', '26618', '23780',\n",
       "       '26617', '23860', '23861', '24134', '24766', '25335', '27910',\n",
       "       '27913', '23651', '23650', '27990', '27353', '27722', '24002',\n",
       "       '26980', '27325', '23649', '24944', '27969', '26719', '27963',\n",
       "       '26619', '26449', '27565', '26674', '27566', '27134', '27864',\n",
       "       '27868', '27622', '23428', '23429', '26805', '26804', '23426',\n",
       "       '26806', '26801', '26803', '26802', '27833', '27109', '24730',\n",
       "       '24732', '27345', '25719', '27346', '26793', '24024', '27892',\n",
       "       '27619', '23629', '27616', '27614', '27612', '27110', '27111',\n",
       "       '27112', '26589', '28197', '25081', '25552', '27354', '27968'], \n",
       "      dtype='|S5')"
      ]
     },
     "execution_count": 54,
     "metadata": {},
     "output_type": "execute_result"
    }
   ],
   "source": [
    "# missing in subjects list (not a really problem, lookup table is unncessary long)\n",
    "\n",
    "np.array(list(set(subjects[0]).difference(lookup['ids_probanden_db'])))"
   ]
  },
  {
   "cell_type": "code",
   "execution_count": 58,
   "metadata": {
    "collapsed": false
   },
   "outputs": [
    {
     "data": {
      "text/plain": [
       "array(['27877', '26900', '26863', '27726', '27768', '14985', '27665',\n",
       "       '07651', '27927', '26523', '27940', '26738', '27655', '26301',\n",
       "       '26122', '26221', '27179'], \n",
       "      dtype='|S5')"
      ]
     },
     "execution_count": 58,
     "metadata": {},
     "output_type": "execute_result"
    }
   ],
   "source": [
    "# missing in lookup table\n",
    "\n",
    "np.array(list(set(lookup['ids_probanden_db']).difference(subjects[0])))"
   ]
  },
  {
   "cell_type": "code",
   "execution_count": null,
   "metadata": {
    "collapsed": true
   },
   "outputs": [],
   "source": [
    "# open == True\n",
    "\n",
    "### MRI only\n",
    "### convert\n",
    "\n"
   ]
  },
  {
   "cell_type": "code",
   "execution_count": 81,
   "metadata": {
    "collapsed": true
   },
   "outputs": [],
   "source": [
    "subjects_mri = pd.read_csv('/nobackup/adenauer2/marcel/LSD/LEMON_LSD/subjects', \n",
    "                           header=None, dtype=str)[0]"
   ]
  },
  {
   "cell_type": "code",
   "execution_count": 62,
   "metadata": {
    "collapsed": true
   },
   "outputs": [],
   "source": [
    "df = pd.read_csv('/nobackup/adenauer2/LSD/Originals/Converted/Questionnaires/SCS/SCS.csv',\n",
    "                 converters = {'ids':str})"
   ]
  },
  {
   "cell_type": "code",
   "execution_count": 87,
   "metadata": {
    "collapsed": false
   },
   "outputs": [],
   "source": [
    "# subjects with at least one data entry\n",
    "df.set_index([range(len(df.index))], inplace=True)\n",
    "idx = df.dropna(how='all').index"
   ]
  },
  {
   "cell_type": "code",
   "execution_count": null,
   "metadata": {
    "collapsed": true
   },
   "outputs": [],
   "source": [
    "# subjects with MRI data\n",
    "subjects_mri = pd.read_csv('/nobackup/adenauer2/marcel/LSD/LEMON_LSD/subjects', \n",
    "                           header=None, dtype=str)[0]\n",
    "idx_mri = df.index[df.ids.isin(subjects)]\n",
    "\n",
    "# subjects with both data for questionnaire and MRI\n",
    "idx = np.array(list(set(idx).intersection(idx_mri)))\n",
    "df = df.iloc[idx]\n",
    "df.set_index([range(len(df.index))], inplace=True)\n",
    "\n"
   ]
  },
  {
   "cell_type": "code",
   "execution_count": 101,
   "metadata": {
    "collapsed": false
   },
   "outputs": [],
   "source": [
    "# anonymize IDs\n",
    "converter = pd.read_excel('/nobackup/adenauer2/LSD/Originals/lookup_table.xlsx',\n",
    "                          converters={'ids_probanden_db' : str, 'ids_xnat_publicp' : str})\n",
    "converter_dict = dict(zip(converter['ids_probanden_db'], converter['ids_xnat_publicp']))\n",
    "\n",
    "df.replace({'ids': converter_dict}, inplace=True)"
   ]
  },
  {
   "cell_type": "markdown",
   "metadata": {},
   "source": [
    "### create BIG overall subjects list"
   ]
  },
  {
   "cell_type": "code",
   "execution_count": 126,
   "metadata": {
    "collapsed": true
   },
   "outputs": [],
   "source": [
    "subjects_mri = pd.read_csv('/nobackup/adenauer2/marcel/LSD/LEMON_LSD/subjects', \n",
    "                           header=None, dtype=str)[0]"
   ]
  },
  {
   "cell_type": "code",
   "execution_count": 132,
   "metadata": {
    "collapsed": false
   },
   "outputs": [],
   "source": [
    "data_dir = '/nobackup/adenauer2/LSD/Originals/Raw'\n",
    "f_A = '%s/Questionnaires/surveyA_151013.csv' % data_dir\n",
    "df_A = pd.read_csv(f_A, sep = \",\", parse_dates =[1,5])\n",
    "df_A['ids'] = df_A['ID'].map(lambda x: str(x)[0:5])"
   ]
  },
  {
   "cell_type": "code",
   "execution_count": 136,
   "metadata": {
    "collapsed": false
   },
   "outputs": [],
   "source": [
    "subjects_A = df_A.ids"
   ]
  },
  {
   "cell_type": "code",
   "execution_count": 138,
   "metadata": {
    "collapsed": false
   },
   "outputs": [
    {
     "data": {
      "text/plain": [
       "(321,)"
      ]
     },
     "execution_count": 138,
     "metadata": {},
     "output_type": "execute_result"
    }
   ],
   "source": [
    "subjects_mri.shape"
   ]
  },
  {
   "cell_type": "code",
   "execution_count": 139,
   "metadata": {
    "collapsed": false
   },
   "outputs": [
    {
     "data": {
      "text/plain": [
       "(233,)"
      ]
     },
     "execution_count": 139,
     "metadata": {},
     "output_type": "execute_result"
    }
   ],
   "source": [
    "subjects_A.shape"
   ]
  },
  {
   "cell_type": "code",
   "execution_count": 141,
   "metadata": {
    "collapsed": false
   },
   "outputs": [],
   "source": [
    "total_subjects = np.array(list(set(subjects_mri).union(subjects_A)))"
   ]
  },
  {
   "cell_type": "code",
   "execution_count": 144,
   "metadata": {
    "collapsed": false
   },
   "outputs": [],
   "source": [
    "df_total = pd.DataFrame({'ids':total_subjects})"
   ]
  },
  {
   "cell_type": "code",
   "execution_count": 151,
   "metadata": {
    "collapsed": false
   },
   "outputs": [],
   "source": [
    "df_total.to_csv('/home/raid3/oligschlager/Downloads/subjects_all_internal.csv', index=False, header=False)"
   ]
  },
  {
   "cell_type": "code",
   "execution_count": 152,
   "metadata": {
    "collapsed": false
   },
   "outputs": [],
   "source": [
    "subjects_mri.to_csv('/home/raid3/oligschlager/Downloads/subjects_mri-only_open-restricted.csv', index=False, header=False)"
   ]
  },
  {
   "cell_type": "code",
   "execution_count": 153,
   "metadata": {
    "collapsed": false
   },
   "outputs": [
    {
     "data": {
      "text/plain": [
       "(338, 1)"
      ]
     },
     "execution_count": 153,
     "metadata": {},
     "output_type": "execute_result"
    }
   ],
   "source": [
    "df_total.shape"
   ]
  },
  {
   "cell_type": "code",
   "execution_count": 154,
   "metadata": {
    "collapsed": false
   },
   "outputs": [
    {
     "data": {
      "text/plain": [
       "(321,)"
      ]
     },
     "execution_count": 154,
     "metadata": {},
     "output_type": "execute_result"
    }
   ],
   "source": [
    "subjects_mri.shape"
   ]
  },
  {
   "cell_type": "code",
   "execution_count": 155,
   "metadata": {
    "collapsed": true
   },
   "outputs": [],
   "source": [
    "missing = ['27877', '26900', '26863', '27726', '27768', '14985', '27665',\n",
    "            '07651', '27927', '26523', '27940', '26738', '27655', '26301',\n",
    "            '26122', '26221', '27179']"
   ]
  },
  {
   "cell_type": "code",
   "execution_count": 156,
   "metadata": {
    "collapsed": true
   },
   "outputs": [],
   "source": [
    "df_missing = pd.DataFrame({'ids': missing})"
   ]
  },
  {
   "cell_type": "code",
   "execution_count": 158,
   "metadata": {
    "collapsed": false
   },
   "outputs": [],
   "source": [
    "df_missing.to_csv('/home/raid3/oligschlager/Downloads/IDs_missing_in_lookuptable.csv', index=False, header=False)"
   ]
  },
  {
   "cell_type": "markdown",
   "metadata": {
    "collapsed": true
   },
   "source": [
    "# temp"
   ]
  },
  {
   "cell_type": "code",
   "execution_count": 1,
   "metadata": {
    "collapsed": true
   },
   "outputs": [],
   "source": [
    "import pandas as pd"
   ]
  },
  {
   "cell_type": "code",
   "execution_count": 142,
   "metadata": {
    "collapsed": true
   },
   "outputs": [],
   "source": [
    "f_to_convert = ['/nobackup/adenauer2/LSD/Open/Tasks/AUT/AUT.csv',\n",
    "                '/nobackup/adenauer2/LSD/Open/Tasks/LPS/LPS.csv',\n",
    "                '/nobackup/adenauer2/LSD/Open/Tasks/RAT/RAT.csv',\n",
    "                '/nobackup/adenauer2/LSD/Open/Tasks/RWT/RWT.csv',\n",
    "                '/nobackup/adenauer2/LSD/Open/Tasks/TAP-alertness/TAP-alertness.csv',\n",
    "                '/nobackup/adenauer2/LSD/Open/Tasks/TAP-incompatibility/TAP-incompatibility.csv',\n",
    "                '/nobackup/adenauer2/LSD/Open/Tasks/TAP-working-memory/TAP-working-memory.csv',\n",
    "                '/nobackup/adenauer2/LSD/Open/Tasks/TCIA/TCIA.csv',\n",
    "                '/nobackup/adenauer2/LSD/Open/Tasks/TMT/TMT.csv',\n",
    "                '/nobackup/adenauer2/LSD/Open/Tasks/WST/WST.csv']"
   ]
  },
  {
   "cell_type": "code",
   "execution_count": 143,
   "metadata": {
    "collapsed": false
   },
   "outputs": [],
   "source": [
    "def convert_ids(f):\n",
    "    \n",
    "    df = pd.read_csv(f, dtype={'ids':str})\n",
    "    \n",
    "    # subjects with MRI data\n",
    "    subjects_mri = pd.read_csv('/nobackup/adenauer2/LSD/Originals/Documentation/subjects_mri', \n",
    "                               header=None, dtype=str)[0]\n",
    "    idx = df.index[df.ids.isin(subjects_mri)]\n",
    "\n",
    "    # subjects with both data for questionnaire and MRI\n",
    "    df = df.iloc[idx]\n",
    "    df.set_index([range(len(df.index))], inplace=True)\n",
    "    \n",
    "    converter = pd.read_excel('/nobackup/adenauer2/LSD/Originals/Documentation/lookup_table.xlsx',\n",
    "                          converters={'ids_probanden_db' : str, 'ids_xnat_publicp' : str})\n",
    "    converter_dict = dict(zip(converter['ids_probanden_db'], converter['ids_xnat_publicp']))\n",
    "\n",
    "    df.replace({'ids': converter_dict}, inplace=True)\n",
    "    \n",
    "    df.to_csv(f, index=False)"
   ]
  },
  {
   "cell_type": "code",
   "execution_count": 144,
   "metadata": {
    "collapsed": false
   },
   "outputs": [],
   "source": [
    "for f in f_to_convert:\n",
    "    convert_ids(f)"
   ]
  },
  {
   "cell_type": "markdown",
   "metadata": {},
   "source": [
    "### Oddball"
   ]
  },
  {
   "cell_type": "code",
   "execution_count": 91,
   "metadata": {
    "collapsed": true
   },
   "outputs": [],
   "source": [
    "# oddball\n",
    "\n",
    "f = '/nobackup/adenauer2/LSD/Open/Tasks/Oddball/oddball.csv'\n",
    "\n",
    "converter1 = pd.read_csv('/nobackup/adenauer2/LSD/Originals/Converted/Tasks/Oddball/databaseIDs.csv',\n",
    "                            converters={'subject' : str, 'ids' : str})\n",
    "\n",
    "dict1_conv = dict(zip(converter1['subject'], converter1['ids']))\n",
    "\n",
    "converter2 = pd.read_excel('/nobackup/adenauer2/LSD/Originals/Documentation/lookup_table.xlsx',\n",
    "                          converters={'ids_probanden_db' : str, 'ids_xnat_publicp' : str})\n",
    "dict2_conv = dict(zip(converter2['ids_probanden_db'], converter2['ids_xnat_publicp']))\n",
    "\n",
    "df = pd.read_csv(f, converters={'subject' : str}, sep='\\t')\n",
    "df.drop('Unnamed: 0', axis=1, inplace=True)\n",
    "\n",
    "df.replace({'subject': dict1_conv}, inplace=True)\n",
    "df.replace({'subject': dict2_conv}, inplace=True)\n",
    "df.rename({'subjcts': 'ids'}, inplace=True)\n",
    "\n",
    "df.to_csv(f)"
   ]
  },
  {
   "cell_type": "code",
   "execution_count": 145,
   "metadata": {
    "collapsed": true
   },
   "outputs": [],
   "source": [
    "f = '/nobackup/adenauer2/LSD/Open/Tasks/Oddball/oddball.csv'\n",
    "subjects_mri = pd.read_csv('/nobackup/adenauer2/LSD/Originals/Documentation/subjects_mri', \n",
    "                               header=None, dtype=str)[0]\n"
   ]
  },
  {
   "cell_type": "code",
   "execution_count": 152,
   "metadata": {
    "collapsed": true
   },
   "outputs": [],
   "source": [
    "converter = pd.read_excel('/nobackup/adenauer2/LSD/Originals/Documentation/lookup_table.xlsx',\n",
    "                          converters={'ids_probanden_db' : str, 'ids_xnat_publicp' : str})\n",
    "dict_conv = dict(zip(converter['ids_probanden_db'], converter['ids_xnat_publicp']))"
   ]
  },
  {
   "cell_type": "code",
   "execution_count": 149,
   "metadata": {
    "collapsed": true
   },
   "outputs": [],
   "source": [
    "df = pd.read_csv(f, converters={'subject':str})"
   ]
  },
  {
   "cell_type": "code",
   "execution_count": 161,
   "metadata": {
    "collapsed": true
   },
   "outputs": [],
   "source": [
    "subjects_mri_conv = [dict_conv[ID] for ID in subjects_mri]"
   ]
  },
  {
   "cell_type": "code",
   "execution_count": 162,
   "metadata": {
    "collapsed": false
   },
   "outputs": [],
   "source": [
    "idx_mri = df.index[df.subject.isin(subjects_mri_conv)]"
   ]
  },
  {
   "cell_type": "code",
   "execution_count": 164,
   "metadata": {
    "collapsed": false
   },
   "outputs": [],
   "source": [
    "df = df.iloc[idx_mri]\n",
    "df.set_index([range(len(df.index))], inplace=True)"
   ]
  },
  {
   "cell_type": "code",
   "execution_count": 170,
   "metadata": {
    "collapsed": false
   },
   "outputs": [
    {
     "name": "stderr",
     "output_type": "stream",
     "text": [
      "/nobackup/hunte1/sabine/anaconda2/envs/distconnect/lib/python2.7/site-packages/ipykernel/__main__.py:1: SettingWithCopyWarning: \n",
      "A value is trying to be set on a copy of a slice from a DataFrame\n",
      "\n",
      "See the caveats in the documentation: http://pandas.pydata.org/pandas-docs/stable/indexing.html#indexing-view-versus-copy\n",
      "  if __name__ == '__main__':\n"
     ]
    }
   ],
   "source": [
    "df.drop('Unnamed: 0', axis=1, inplace=True)"
   ]
  },
  {
   "cell_type": "code",
   "execution_count": 173,
   "metadata": {
    "collapsed": false
   },
   "outputs": [
    {
     "name": "stderr",
     "output_type": "stream",
     "text": [
      "/home/raid3/oligschlager/anaconda2/envs/distconnect/lib/python2.7/site-packages/pandas/core/frame.py:2748: SettingWithCopyWarning: \n",
      "A value is trying to be set on a copy of a slice from a DataFrame\n",
      "\n",
      "See the caveats in the documentation: http://pandas.pydata.org/pandas-docs/stable/indexing.html#indexing-view-versus-copy\n",
      "  **kwargs)\n"
     ]
    }
   ],
   "source": [
    "df.rename(columns={\"subject\":'ids'}, inplace=True)"
   ]
  },
  {
   "cell_type": "code",
   "execution_count": 176,
   "metadata": {
    "collapsed": false
   },
   "outputs": [],
   "source": [
    "df.to_csv(f, index=False)"
   ]
  },
  {
   "cell_type": "markdown",
   "metadata": {},
   "source": [
    "### CPTS"
   ]
  },
  {
   "cell_type": "code",
   "execution_count": 110,
   "metadata": {
    "collapsed": false
   },
   "outputs": [],
   "source": [
    "import glob\n",
    "import os\n",
    "import shutil"
   ]
  },
  {
   "cell_type": "code",
   "execution_count": 106,
   "metadata": {
    "collapsed": true
   },
   "outputs": [],
   "source": [
    "converter = pd.read_excel('/nobackup/adenauer2/LSD/Originals/Documentation/lookup_table.xlsx',\n",
    "                          converters={'ids_probanden_db' : str, 'ids_xnat_publicp' : str})\n",
    "dict_conv = dict(zip(converter['ids_probanden_db'], converter['ids_xnat_publicp']))"
   ]
  },
  {
   "cell_type": "code",
   "execution_count": null,
   "metadata": {
    "collapsed": true
   },
   "outputs": [],
   "source": [
    "files = glob.glob('/nobackup/adenauer2/LSD/Open/Tasks/CPTS/*csv')"
   ]
  },
  {
   "cell_type": "code",
   "execution_count": 116,
   "metadata": {
    "collapsed": false
   },
   "outputs": [],
   "source": [
    "for f in files: \n",
    "    ID = os.path.basename(f)[:5]\n",
    "    try:\n",
    "        new = '%s/%s.csv' % (os.path.dirname(f),dict_conv[ID])\n",
    "        os.rename(f,new)\n",
    "    except:\n",
    "        os.remove(f)"
   ]
  },
  {
   "cell_type": "code",
   "execution_count": 177,
   "metadata": {
    "collapsed": true
   },
   "outputs": [],
   "source": [
    "files = glob.glob('/nobackup/adenauer2/LSD/Open/Tasks/CPTS/*csv')"
   ]
  },
  {
   "cell_type": "code",
   "execution_count": 184,
   "metadata": {
    "collapsed": false
   },
   "outputs": [
    {
     "name": "stdout",
     "output_type": "stream",
     "text": [
      "010095\n"
     ]
    }
   ],
   "source": [
    "for f in files:\n",
    "    ID = os.path.basename(f)[:6]\n",
    "    if ID not in subjects_mri_conv:\n",
    "        print ID\n",
    "        os.remove(f)\n",
    "\n",
    "        "
   ]
  },
  {
   "cell_type": "code",
   "execution_count": null,
   "metadata": {
    "collapsed": true
   },
   "outputs": [],
   "source": []
  },
  {
   "cell_type": "code",
   "execution_count": null,
   "metadata": {
    "collapsed": true
   },
   "outputs": [],
   "source": []
  },
  {
   "cell_type": "code",
   "execution_count": null,
   "metadata": {
    "collapsed": true
   },
   "outputs": [],
   "source": []
  },
  {
   "cell_type": "code",
   "execution_count": null,
   "metadata": {
    "collapsed": true
   },
   "outputs": [],
   "source": [
    "# ETS"
   ]
  },
  {
   "cell_type": "code",
   "execution_count": 119,
   "metadata": {
    "collapsed": true
   },
   "outputs": [],
   "source": [
    "files = glob.glob('/nobackup/adenauer2/LSD/Open/Tasks/ETS/*TS.txt')"
   ]
  },
  {
   "cell_type": "code",
   "execution_count": 122,
   "metadata": {
    "collapsed": false
   },
   "outputs": [],
   "source": [
    "# change file names\n",
    "for f in files: \n",
    "    ID = os.path.basename(f)[:5]\n",
    "    try:\n",
    "        new = '%s/%s.csv' % (os.path.dirname(f),dict_conv[ID])\n",
    "        os.rename(f,new)\n",
    "    except:\n",
    "        os.remove(f)"
   ]
  },
  {
   "cell_type": "code",
   "execution_count": null,
   "metadata": {
    "collapsed": true
   },
   "outputs": [],
   "source": [
    "# delete subject column"
   ]
  },
  {
   "cell_type": "code",
   "execution_count": 123,
   "metadata": {
    "collapsed": true
   },
   "outputs": [],
   "source": [
    "files = glob.glob('/nobackup/adenauer2/LSD/Open/Tasks/ETS/*csv')"
   ]
  },
  {
   "cell_type": "code",
   "execution_count": 124,
   "metadata": {
    "collapsed": true
   },
   "outputs": [],
   "source": [
    "for f in files:\n",
    "    df = pd.read_csv(f, sep='\\t')\n",
    "    try:\n",
    "        df.drop('subject', axis=1, inplace=True)\n",
    "        df.to_csv(f, index=False)\n",
    "    except:\n",
    "        \n",
    "        print '\\n'\n",
    "        print os.path.basename(f)\n",
    "        print df.columns.values"
   ]
  },
  {
   "cell_type": "code",
   "execution_count": 187,
   "metadata": {
    "collapsed": true
   },
   "outputs": [],
   "source": [
    "# delete subjects with no mri\n",
    "files = glob.glob('/nobackup/adenauer2/LSD/Open/Tasks/ETS/*csv')"
   ]
  },
  {
   "cell_type": "code",
   "execution_count": 190,
   "metadata": {
    "collapsed": false
   },
   "outputs": [
    {
     "name": "stdout",
     "output_type": "stream",
     "text": [
      "010095\n",
      "010013\n"
     ]
    }
   ],
   "source": [
    "for f in files:\n",
    "    ID = os.path.basename(f)[:6]\n",
    "    if ID not in subjects_mri_conv:\n",
    "        print ID\n",
    "        os.remove(f)\n",
    "    "
   ]
  },
  {
   "cell_type": "code",
   "execution_count": null,
   "metadata": {
    "collapsed": true
   },
   "outputs": [],
   "source": []
  }
 ],
 "metadata": {
  "kernelspec": {
   "display_name": "Python 2",
   "language": "python",
   "name": "python2"
  },
  "language_info": {
   "codemirror_mode": {
    "name": "ipython",
    "version": 2
   },
   "file_extension": ".py",
   "mimetype": "text/x-python",
   "name": "python",
   "nbconvert_exporter": "python",
   "pygments_lexer": "ipython2",
   "version": "2.7.13"
  }
 },
 "nbformat": 4,
 "nbformat_minor": 0
}
