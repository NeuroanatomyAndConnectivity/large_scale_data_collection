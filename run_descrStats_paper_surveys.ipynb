{
 "metadata": {
  "name": ""
 },
 "nbformat": 3,
 "nbformat_minor": 0,
 "worksheets": [
  {
   "cells": [
    {
     "cell_type": "heading",
     "level": 1,
     "metadata": {},
     "source": [
      "Paper Surveys"
     ]
    },
    {
     "cell_type": "code",
     "collapsed": false,
     "input": [
      "NYCQ_prescan = '/scr/liberia1/data/lsd/behavioral/Surveys/Prescan short NYC-Q_20151214.csv'\n",
      "NYCQ_postscan = '/scr/liberia1/data/lsd/behavioral/Surveys/LIMIT -NYC-Q post Scan_151116.csv'\n",
      "NYCQ_postemoswitch = '/scr/liberia1/data/lsd/behavioral/Surveys/NYCQ-short-slider post Win.ods - NYCQ_20151214.csv'\n",
      "out_dir = '/scr/liberia1/data/lsd/behavioral/XNAT'"
     ],
     "language": "python",
     "metadata": {},
     "outputs": [],
     "prompt_number": 1
    },
    {
     "cell_type": "code",
     "collapsed": false,
     "input": [
      "execfile('./descrStats_surveys.py')\n",
      "\n",
      "df_prescan = pd.read_csv(NYCQ_prescan)\n",
      "df_postscan = pd.read_csv(NYCQ_postscan)\n",
      "df_postemoswitch = pd.read_csv(NYCQ_postemoswitch)"
     ],
     "language": "python",
     "metadata": {},
     "outputs": [],
     "prompt_number": 2
    },
    {
     "cell_type": "heading",
     "level": 2,
     "metadata": {},
     "source": [
      "short NYCQ (pre-scan)"
     ]
    },
    {
     "cell_type": "code",
     "collapsed": false,
     "input": [
      "run_NYCQ_prescan(df_prescan, out_dir)"
     ],
     "language": "python",
     "metadata": {},
     "outputs": [],
     "prompt_number": 3
    },
    {
     "cell_type": "heading",
     "level": 2,
     "metadata": {},
     "source": [
      "LIMIT - NYC-Q (post scan)"
     ]
    },
    {
     "cell_type": "code",
     "collapsed": false,
     "input": [
      "run_NYCQ_postscan(df_postscan, out_dir)"
     ],
     "language": "python",
     "metadata": {},
     "outputs": [],
     "prompt_number": 4
    },
    {
     "cell_type": "heading",
     "level": 2,
     "metadata": {},
     "source": [
      "short NYCQ (post emotional switching task)"
     ]
    },
    {
     "cell_type": "code",
     "collapsed": false,
     "input": [
      "run_NYCQ_postemoswitch(df_postemoswitch, out_dir)"
     ],
     "language": "python",
     "metadata": {},
     "outputs": [],
     "prompt_number": 5
    }
   ],
   "metadata": {}
  }
 ]
}