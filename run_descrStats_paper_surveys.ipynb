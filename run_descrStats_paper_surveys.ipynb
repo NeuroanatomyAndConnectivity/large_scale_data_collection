{
 "metadata": {
  "name": ""
 },
 "nbformat": 3,
 "nbformat_minor": 0,
 "worksheets": [
  {
   "cells": [
    {
     "cell_type": "heading",
     "level": 1,
     "metadata": {},
     "source": [
      "Paper Surveys"
     ]
    },
    {
     "cell_type": "code",
     "collapsed": false,
     "input": [
      "NYQC_postscan = '/scr/liberia1/data/lsd/behavioral/Surveys/LIMIT -NYC-Q post Scan_151116.csv'\n",
      "NYCQ_postemoswitch = '/scr/liberia1/data/lsd/behavioral/Surveys/NYCQ-short_slider post Win - NYCQ.csv'\n",
      "out_dir = '/scr/liberia1/data/lsd/behavioral/XNAT'"
     ],
     "language": "python",
     "metadata": {},
     "outputs": [],
     "prompt_number": 1
    },
    {
     "cell_type": "code",
     "collapsed": false,
     "input": [
      "execfile('./descrStats_surveys.py')\n",
      "df_postscan = pd.read_csv(NYQC_postscan)\n",
      "df_postemoswitch = pd.read_csv(NYCQ_postemoswitch)\n",
      "print 'post scan N =', len(df_postscan)\n",
      "print 'post tasks N =', len(df_postemoswitch)"
     ],
     "language": "python",
     "metadata": {},
     "outputs": [
      {
       "output_type": "stream",
       "stream": "stdout",
       "text": [
        "post scan N = 207\n",
        "post tasks N = 207\n"
       ]
      }
     ],
     "prompt_number": 2
    },
    {
     "cell_type": "heading",
     "level": 2,
     "metadata": {},
     "source": [
      "LIMIT - NYC-Q (post scan)"
     ]
    },
    {
     "cell_type": "code",
     "collapsed": false,
     "input": [
      "run_NYCQ_postscan(df_postscan, out_dir)"
     ],
     "language": "python",
     "metadata": {},
     "outputs": [],
     "prompt_number": 3
    },
    {
     "cell_type": "heading",
     "level": 2,
     "metadata": {},
     "source": [
      "short NYCQ (post emotional switching task)"
     ]
    },
    {
     "cell_type": "code",
     "collapsed": false,
     "input": [
      "run_NYCQ_postemoswitch(df_postemoswitch, out_dir)"
     ],
     "language": "python",
     "metadata": {},
     "outputs": [],
     "prompt_number": 4
    }
   ],
   "metadata": {}
  }
 ]
}