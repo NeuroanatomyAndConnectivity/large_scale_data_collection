{
 "metadata": {
  "name": ""
 },
 "nbformat": 3,
 "nbformat_minor": 0,
 "worksheets": [
  {
   "cells": [
    {
     "cell_type": "heading",
     "level": 1,
     "metadata": {},
     "source": [
      "Survey C and D"
     ]
    },
    {
     "cell_type": "markdown",
     "metadata": {},
     "source": [
      "specify most recent data files (csv from limesurvey) and the directory for output files, leave '' if no csv file wanted"
     ]
    },
    {
     "cell_type": "code",
     "collapsed": false,
     "input": [
      "f1_in = '/scr/liberia1/data/lsd/behavioral/LimeSurvey/surveyCactive_151013.csv'\n",
      "f2_in = '/scr/liberia1/data/lsd/behavioral/LimeSurvey/surveyCinactive_151013.csv'\n",
      "f3_in = '/scr/liberia1/data/lsd/behavioral/LimeSurvey/surveyCcorrected_151013.csv'\n",
      "f4_in = '/scr/liberia1/data/lsd/behavioral/LimeSurvey/surveyD_151013.csv'\n",
      "out_dir = '/scr/liberia1/data/lsd/behavioral/XNAT'"
     ],
     "language": "python",
     "metadata": {},
     "outputs": [],
     "prompt_number": 1
    },
    {
     "cell_type": "code",
     "collapsed": false,
     "input": [
      "execfile('./descrStats_surveys.py')\n",
      "df1 = pd.read_csv(f1_in, sep = \",\", parse_dates =[1,5])\n",
      "df2 = pd.read_csv(f2_in, sep = \",\", parse_dates =[1,5])\n",
      "df3 = pd.read_csv(f3_in, sep = \",\", parse_dates =[1,5])\n",
      "df_c = pd.concat([df1, df2, df3])\n",
      "df_d = pd.read_csv(f4_in, sep = \",\", parse_dates =[1,5])\n",
      "print 'Survey C: N =', len(df_c)\n",
      "print 'Survey D: N =', len(df_d)"
     ],
     "language": "python",
     "metadata": {},
     "outputs": [
      {
       "output_type": "stream",
       "stream": "stdout",
       "text": [
        "Survey C: N = 211\n",
        "Survey D: N = 200\n"
       ]
      }
     ],
     "prompt_number": 2
    },
    {
     "cell_type": "heading",
     "level": 2,
     "metadata": {},
     "source": [
      "LIMIT / NYC_Q"
     ]
    },
    {
     "cell_type": "code",
     "collapsed": false,
     "input": [
      "run_limit(df_c.copy(), out_dir) # or run_NYCQ ?"
     ],
     "language": "python",
     "metadata": {},
     "outputs": []
    },
    {
     "cell_type": "heading",
     "level": 2,
     "metadata": {},
     "source": [
      "facebook intensity questionnaire"
     ]
    },
    {
     "cell_type": "code",
     "collapsed": false,
     "input": [
      "run_FIS(df_c.copy(), out_dir)"
     ],
     "language": "python",
     "metadata": {},
     "outputs": []
    },
    {
     "cell_type": "heading",
     "level": 2,
     "metadata": {},
     "source": [
      "DS14"
     ]
    },
    {
     "cell_type": "code",
     "collapsed": false,
     "input": [
      "run_DS14(df_c.copy(), out_dir)"
     ],
     "language": "python",
     "metadata": {},
     "outputs": [],
     "prompt_number": 3
    },
    {
     "cell_type": "heading",
     "level": 2,
     "metadata": {},
     "source": [
      "childhood trauma questionnaire"
     ]
    },
    {
     "cell_type": "code",
     "collapsed": false,
     "input": [
      "run_CTQ(df_d.copy(), out_dir)"
     ],
     "language": "python",
     "metadata": {},
     "outputs": [],
     "prompt_number": 4
    }
   ],
   "metadata": {}
  }
 ]
}